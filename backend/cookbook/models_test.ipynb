{
 "cells": [
  {
   "cell_type": "code",
   "execution_count": 6,
   "id": "initial_id",
   "metadata": {
    "collapsed": true,
    "jupyter": {
     "is_executing": true
    }
   },
   "outputs": [
    {
     "name": "stdout",
     "output_type": "stream",
     "text": [
      "Current working directory: /home/nahid/Documents/Projects/RagChat/backend/rag\n"
     ]
    }
   ],
   "source": [
    "import os\n",
    "# Change directory to '../src/llm_manager' relative to the notebook's location\n",
    "os.chdir(\"../rag\")\n",
    "\n",
    "# Check the current working directory\n",
    "print(\"Current working directory:\", os.getcwd())"
   ]
  },
  {
   "cell_type": "code",
   "execution_count": 7,
   "id": "3863986f",
   "metadata": {},
   "outputs": [],
   "source": [
    "from models.llm import LLM "
   ]
  },
  {
   "cell_type": "code",
   "execution_count": null,
   "id": "cc674126",
   "metadata": {},
   "outputs": [
    {
     "name": "stderr",
     "output_type": "stream",
     "text": [
      "2025-08-19 09:03:14 - INFO - Using device: cpu\n",
      "2025-08-19 09:03:14 - INFO - CUDA not available, using CPU\n",
      "/home/nahid/anaconda3/envs/llm_env/lib/python3.9/site-packages/huggingface_hub/file_download.py:797: FutureWarning: `resume_download` is deprecated and will be removed in version 1.0.0. Downloads always resume when possible. If you want to force a new download, use `force_download=True`.\n",
      "  warnings.warn(\n",
      "2025-08-19 09:03:14 - INFO - Model downloaded to: models/llm/models/models--bartowski--Meta-Llama-3.1-8B-Instruct-GGUF/snapshots/bf5b95e96dac0462e2a09145ec66cae9a3f12067/Meta-Llama-3.1-8B-Instruct-Q4_K_M.gguf\n",
      "2025-08-19 09:03:14 - INFO - Running in CPU-only mode\n"
     ]
    }
   ],
   "source": [
    "llm = LLM()\n",
    "response = llm._call(\"Hello, how are you?\")\n",
    "print(response)\n"
   ]
  }
 ],
 "metadata": {
  "kernelspec": {
   "display_name": "llm_env",
   "language": "python",
   "name": "python3"
  },
  "language_info": {
   "codemirror_mode": {
    "name": "ipython",
    "version": 3
   },
   "file_extension": ".py",
   "mimetype": "text/x-python",
   "name": "python",
   "nbconvert_exporter": "python",
   "pygments_lexer": "ipython3",
   "version": "3.9.21"
  }
 },
 "nbformat": 4,
 "nbformat_minor": 5
}
